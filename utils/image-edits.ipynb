{
 "cells": [
  {
   "cell_type": "code",
   "execution_count": 3,
   "metadata": {},
   "outputs": [],
   "source": [
    "import cv2\n",
    "import numpy as np"
   ]
  },
  {
   "cell_type": "code",
   "execution_count": 1,
   "metadata": {},
   "outputs": [],
   "source": [
    "def segment_image(image_path):\n",
    "    # Load the image\n",
    "    image = cv2.imread(image_path, cv2.IMREAD_COLOR)\n",
    "    if image is None:\n",
    "        print(\"Error: Image could not be read.\")\n",
    "        exit()\n",
    "\n",
    "    # Convert image to HSV color space\n",
    "    hsv_image = cv2.cvtColor(image, cv2.COLOR_BGR2HSV)\n",
    "\n",
    "    # Define HSV thresholds for light gray (these values may need to be adjusted)\n",
    "    lower_gray = np.array([0, 0, 0])  # Lower boundary of the gray background\n",
    "    upper_gray = np.array([180, 30, 220])  # Upper boundary of the gray background\n",
    "\n",
    "    # Create a mask that identifies the background\n",
    "    background_mask = cv2.inRange(hsv_image, lower_gray, upper_gray)\n",
    "\n",
    "    # Invert the mask to get the foreground\n",
    "    foreground_mask = 255 - background_mask\n",
    "\n",
    "    # Clean up the mask using morphological operations\n",
    "    kernel = np.ones((5, 5), np.uint8)\n",
    "    foreground_mask = cv2.morphologyEx(foreground_mask, cv2.MORPH_OPEN, kernel)\n",
    "    foreground_mask = cv2.morphologyEx(foreground_mask, cv2.MORPH_CLOSE, kernel)\n",
    "\n",
    "    # Apply the mask to the image to segment the object\n",
    "    segmented_image = cv2.bitwise_and(image, image, mask=foreground_mask)\n",
    "\n",
    "    # Create a white background image of the same size\n",
    "    white_background = np.full_like(image, 255)\n",
    "\n",
    "    # Combine the original image and the white background using the mask\n",
    "    final_image = np.where(foreground_mask[:, :, None] == 0, white_background, segmented_image)\n",
    "\n",
    "    # Save the final segmented image\n",
    "    cv2.imwrite('/Users/ellis/Desktop/lfa_kennedy_0956_001_seg.tif', final_image)\n",
    "\n",
    "# Replace 'path_to_your_image.tif' with the path to your actual image file\n",
    "segment_image('/Users/ellis/Desktop/lfa_kennedy_0956_001.tif')\n"
   ]
  },
  {
   "cell_type": "code",
   "execution_count": null,
   "metadata": {},
   "outputs": [],
   "source": [
    "# TODO ignore things within the boundary \n",
    "# TODO automatically mask things that are the ratio of the colorbar (or pattern?) and the ruler"
   ]
  }
 ],
 "metadata": {
  "kernelspec": {
   "display_name": "Python 3",
   "language": "python",
   "name": "python3"
  },
  "language_info": {
   "codemirror_mode": {
    "name": "ipython",
    "version": 3
   },
   "file_extension": ".py",
   "mimetype": "text/x-python",
   "name": "python",
   "nbconvert_exporter": "python",
   "pygments_lexer": "ipython3",
   "version": "3.9.12"
  },
  "orig_nbformat": 4
 },
 "nbformat": 4,
 "nbformat_minor": 2
}
