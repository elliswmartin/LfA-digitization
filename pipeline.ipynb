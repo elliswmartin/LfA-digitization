{
 "cells": [
  {
   "cell_type": "code",
   "execution_count": 2,
   "metadata": {},
   "outputs": [],
   "source": [
    "import os\n",
    "from pathlib import Path\n",
    "from utils.utils import get_dated_dir_path, document_files "
   ]
  },
  {
   "cell_type": "markdown",
   "metadata": {},
   "source": [
    "# Outline\n",
    "\n",
    "Step 1. \n",
    "- Remove background, color bar & ruler \n",
    "- Deskew\n",
    "    - Save as full size tiff\n",
    "\n",
    "Step 2. \n",
    "- Export as full size jpg\n",
    "- Add metadata to jpg\n",
    "\n",
    "Step 3. \n",
    "- Manual QC \n",
    "\n",
    "Step 4. \n",
    "- If fail: Reroute to earlier parts of the pipeline\n",
    "- If pass: Proceed\n",
    "\n",
    "Step 5. \n",
    "- Scheduled upload to server\n",
    "- Scheduled upload to AWS\n",
    "\n",
    "Step 6. \n",
    "- Crop & resize to 3000px   \n",
    "\n",
    "Step 7. \n",
    "- Add to OA via Catalog Manager \n"
   ]
  },
  {
   "cell_type": "code",
   "execution_count": 6,
   "metadata": {},
   "outputs": [
    {
     "name": "stderr",
     "output_type": "stream",
     "text": [
      "Processing: 2639folders [00:02, 944.32folders/s] "
     ]
    },
    {
     "name": "stdout",
     "output_type": "stream",
     "text": [
      "Total files processed: 59319\n",
      "File list documented. Check '/Users/ellis/Desktop/dirs-240521/expansion_directory.txt' for output.\n"
     ]
    },
    {
     "name": "stderr",
     "output_type": "stream",
     "text": [
      "\n"
     ]
    }
   ],
   "source": [
    "def pipeline():\n",
    "    # Create dated folder paths\n",
    "    desktop_base = os.path.join(Path.home(), \"Desktop\")    \n",
    "    output_folder_path = get_dated_dir_path(desktop_base)\n",
    "\n",
    "    # # Server\n",
    "    # server_path = \"/Volumes/Shared\"\n",
    "    # output_file = os.path.join(output_folder_path, \"server_directory.txt\")\n",
    "    # document_files(server_path, output_file)\n",
    "    # print(\"File list documented. Check '{}' for output.\".format(output_file))\n",
    "\n",
    "    # # Promise 1\n",
    "    # p1_path = r\"/Volumes/Promise Pegasus\"\n",
    "    # output_file = os.path.join(output_folder_path, \"promise1_directory.txt\")\n",
    "    # document_files(p1_path, output_file)\n",
    "    # print(\"File list documented. Check '{}' for output.\".format(output_file))\n",
    "\n",
    "    # # Promise 2\n",
    "    # p2_path = r\"/Volumes/Promise Pegasus 2\"\n",
    "    # output_file = os.path.join(output_folder_path, \"promise2_directory.txt\")\n",
    "    # document_files(p2_path, output_file)\n",
    "    # print(\"File list documented. Check '{}' for output.\".format(output_file))\n",
    "\n",
    "    # # Ellis-LfA\n",
    "    # ellis_path = \"/Volumes/Ellis-LfA\"\n",
    "    # output_file = os.path.join(output_folder_path, \"ellis_directory.txt\")\n",
    "    # document_files(ellis_path, output_file)\n",
    "    # print(\"File list documented. Check '{}' for output.\".format(output_file))\n",
    "\n",
    "    # Expansion\n",
    "    expansion_path = r\"/Volumes/Expansion\"\n",
    "    output_file = os.path.join(output_folder_path, \"expansion_directory.txt\")\n",
    "    document_files(expansion_path, output_file)\n",
    "    print(\"File list documented. Check '{}' for output.\".format(output_file))\n",
    "\n",
    "if __name__ == \"__main__\":\n",
    "    pipeline()\n"
   ]
  },
  {
   "cell_type": "code",
   "execution_count": null,
   "metadata": {},
   "outputs": [],
   "source": []
  }
 ],
 "metadata": {
  "kernelspec": {
   "display_name": "Python 3",
   "language": "python",
   "name": "python3"
  },
  "language_info": {
   "codemirror_mode": {
    "name": "ipython",
    "version": 3
   },
   "file_extension": ".py",
   "mimetype": "text/x-python",
   "name": "python",
   "nbconvert_exporter": "python",
   "pygments_lexer": "ipython3",
   "version": "3.9.12"
  },
  "orig_nbformat": 4
 },
 "nbformat": 4,
 "nbformat_minor": 2
}
